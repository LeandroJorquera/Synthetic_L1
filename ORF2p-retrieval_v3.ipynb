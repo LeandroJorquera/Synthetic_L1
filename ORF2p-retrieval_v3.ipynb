{
  "cells": [
    {
      "cell_type": "markdown",
      "metadata": {
        "id": "view-in-github",
        "colab_type": "text"
      },
      "source": [
        "<a href=\"https://colab.research.google.com/github/LeandroJorquera/synthetic_L1/blob/main/ORF2p-retrieval_v3.ipynb\" target=\"_parent\"><img src=\"https://colab.research.google.com/assets/colab-badge.svg\" alt=\"Open In Colab\"/></a>"
      ]
    },
    {
      "cell_type": "code",
      "source": [
        "%%capture\n",
        "!pip install SeqIO\n",
        "!pip install Bio"
      ],
      "metadata": {
        "id": "9li5Jzka3KH7"
      },
      "execution_count": 1,
      "outputs": []
    },
    {
      "cell_type": "code",
      "source": [
        "import pandas as pd\n",
        "from Bio import SeqIO\n",
        "from Bio.Seq import Seq"
      ],
      "metadata": {
        "id": "QwLqbMuA3vn4"
      },
      "execution_count": null,
      "outputs": []
    },
    {
      "cell_type": "markdown",
      "metadata": {
        "id": "LuBP1KIMUIH6"
      },
      "source": [
        "# Reading and sorting dataset"
      ]
    },
    {
      "cell_type": "code",
      "execution_count": null,
      "metadata": {
        "colab": {
          "base_uri": "https://localhost:8080/"
        },
        "id": "VZ9dXlXtJjAT",
        "outputId": "db536325-4495-4dc8-c489-f7ef264de99b"
      },
      "outputs": [
        {
          "data": {
            "text/plain": [
              "100000"
            ]
          },
          "execution_count": 13,
          "metadata": {},
          "output_type": "execute_result"
        }
      ],
      "source": [
        "# -- Read dataset (locally) \n",
        "path = \"/Users/leandrojorqueravalero/Desktop/PhD/Synthetic_ORF2p/preprocessed_LINE_v2.csv\"\n",
        "df=pd.read_csv(path, low_memory = False)  \n",
        "len(df.index)\n"
      ]
    },
    {
      "cell_type": "code",
      "execution_count": null,
      "metadata": {
        "id": "_JdIihZ_sW_S",
        "outputId": "6cbd430a-ebc8-4234-dff2-217112cd17e8"
      },
      "outputs": [
        {
          "data": {
            "text/plain": [
              "26431"
            ]
          },
          "execution_count": 25,
          "metadata": {},
          "output_type": "execute_result"
        }
      ],
      "source": [
        "# -- Select desired columns and rename\n",
        "\n",
        "sorted_df = df.iloc[:,[19, 3,8, 18]]   # 3: length  // 8:DNA_seq // 18: counts info // 19:ID + Dfam entry\n",
        "sorted_df.columns = ['ID','Length','DNA_seq', 'Counts']#[,'Length','DNA_seq',]\n",
        "#sorted_df.head(5)\n",
        "\n",
        "# -- Select columns matching required criteria (length)\n",
        "filtered_df = sorted_df.loc[sorted_df['Length']>3000]\n",
        "#len(filtered_df.index)\n",
        "\n",
        "# -- removing duplicates\n",
        "filtered_df.drop_duplicates(subset=['ID'], keep=False)\n",
        "len(filtered_df.index)"
      ]
    },
    {
      "cell_type": "markdown",
      "metadata": {
        "id": "cF9NSvQDpfde"
      },
      "source": [
        "# Retrieving count number (1357 out of 26431 are valid)"
      ]
    },
    {
      "cell_type": "code",
      "execution_count": null,
      "metadata": {
        "id": "X-BSIh9AyikC"
      },
      "outputs": [],
      "source": [
        "# select desired columns and create empty output dict\n",
        "name = filtered_df['ID']  \n",
        "counts = filtered_df['Counts']\n",
        "output_dict = {}\n",
        "\n",
        "# -- testing the number of column with NaN values (only 1357 out of 26431 have valid values)\n",
        "#nonNA_counts = filtered_df['Counts'].dropna()\n",
        "#len(nonNA_counts)\n",
        "\n",
        "# iterating over dataset\n",
        "for i in range(len(filtered_df)):\n",
        "    ID = name.iloc[i]\n",
        "    if type(counts.iloc[i]) == str: # must be string to be converted to dict\n",
        "      hmm_dict = eval(counts.iloc[i])\n",
        "      count_list = list(hmm_dict.values())  \n",
        "      count_dict = eval(str(count_list[0])) \n",
        "      all = count_dict['gathering_all']\n",
        "      non_redun = count_dict['gathering_nonredundant']\n",
        "      #print(ID , all, non_redun)\n",
        "      output_dict[ID] = (all,non_redun) # associate both number to each ID\n",
        "\n",
        "# Display output dict\n",
        "#output_dict\n",
        "\n",
        "# Make a df and ID column is set as index\n",
        "count_df = pd.DataFrame.from_dict(output_dict, orient='index') \n",
        "#count_df\n",
        "\n",
        "# Resetting index to displace ID col\n",
        "ORF2p_counts = count_df.reset_index()\n",
        "\n",
        "# Renaming columns\n",
        "ORF2p_counts.columns = ['ID','All', 'Non_redundant']\n",
        "ORF2p_counts"
      ]
    },
    {
      "cell_type": "markdown",
      "metadata": {
        "id": "KqFKMLTWo-RH"
      },
      "source": [
        "# Protein extraction with simpler ORFinder"
      ]
    },
    {
      "cell_type": "code",
      "execution_count": null,
      "metadata": {
        "id": "IRXCq6r1tAuS"
      },
      "outputs": [],
      "source": [
        "# -- Extracting all protein sequences from DNA with simpler finder\n",
        "prot_list = []\n",
        "prot_dict = {}\n",
        "name = filtered_df['ID']  \n",
        "DNA = filtered_df['DNA_seq'] \n",
        "\n",
        "for i in range(len(filtered_df)):    #There's no NaN values in DNA column\n",
        "  ID = name.iloc[i]\n",
        "  if type(DNA.iloc[i]) == str:\n",
        "    record = Seq(DNA.iloc[i])\n",
        "  for strand, nuc in [(+1, record), (-1, record.reverse_complement())]:   # explore seq and rev complement\n",
        "       for frame in range(3): #explore all 3 ORFs\n",
        "         min_pro_len = 1000\n",
        "         table = 1\n",
        "         length = 3 * ((len(record) - frame) // 3)  # Multiple of three\n",
        "         for pro in nuc[frame : frame + length].translate(table).split(\"*\"):\n",
        "             if len(pro) >= min_pro_len:\n",
        "               #print( \"%s - %s...%s - length %i,\" % (ID, pro[:20], pro[-3:], len(pro)))\n",
        "               prot_list.append(str(pro))\n",
        "               prot_dict[ID] = str(pro)\n",
        "\n",
        "# Display output prot dict\n",
        "#prot_dict\n",
        "\n",
        "# Make a df and ID column is set as index\n",
        "prot_df = pd.DataFrame.from_dict(prot_dict, orient='index') \n",
        "# Resetting index to displace ID col\n",
        "proteins_df = prot_df.reset_index()\n",
        "\n",
        "# Using drop() function to delete last row and renaming cols\n",
        "proteins_df.columns = ['ID','Seq']\n",
        "#final_df.drop(index=final_df.index[-1], inplace=True)\n",
        "proteins_df"
      ]
    },
    {
      "cell_type": "code",
      "execution_count": null,
      "metadata": {
        "id": "mhoogpzC2uVq"
      },
      "outputs": [],
      "source": [
        "proteins_df.columns = ['ID','Seq']\n",
        "proteins_df"
      ]
    },
    {
      "cell_type": "markdown",
      "metadata": {
        "id": "TKRaEFDDpIqf"
      },
      "source": [
        "# Exporting as fasta file from prot_dict{}"
      ]
    },
    {
      "cell_type": "code",
      "execution_count": null,
      "metadata": {
        "id": "KSkzCj5ouWYx"
      },
      "outputs": [],
      "source": [
        "# output file name\n",
        "output_file = 'ORF2p_v2.fasta'\n",
        "\n",
        "# open output file for writing\n",
        "with open(output_file, 'w') as out_file:\n",
        "  for seq_id, seq in prot_dict.items(): # loop through dictionary items \n",
        "    seq_record = SeqIO.SeqRecord(Seq(seq), id= str(seq_id), description=\"\") # make sure to save ID as string\n",
        "    SeqIO.write(seq_record, out_file, 'fasta')"
      ]
    },
    {
      "cell_type": "markdown",
      "metadata": {
        "id": "aRJVVVbA2uVr"
      },
      "source": [
        "## Merging ORF2p seqs and count number"
      ]
    },
    {
      "cell_type": "code",
      "execution_count": null,
      "metadata": {
        "id": "JIbhePNL7bOi"
      },
      "outputs": [],
      "source": [
        "# -- Merging both datasets and exporting as csv\n",
        "\n",
        "ORF2p_seqs_counts = pd.merge(proteins_df,ORF2p_counts)\n",
        "#ORF2p_seqs_counts\n",
        "\n",
        "#output_path = \"/Users/leandrojorqueravalero/Desktop/PhD/Synthetic_ORF2p\"\n",
        "\n",
        "ORF2p_seqs_counts.to_csv(r'/Users/leandrojorqueravalero/Desktop/PhD/Synthetic_ORF2p/ORF2p_seqs_counts.csv', index= False)"
      ]
    },
    {
      "cell_type": "markdown",
      "metadata": {
        "id": "AUeE8Ytjozl5"
      },
      "source": [
        "# Protein extraction with ORFinder"
      ]
    },
    {
      "cell_type": "code",
      "execution_count": null,
      "metadata": {
        "id": "RE7JiPB6gpTv"
      },
      "outputs": [],
      "source": [
        "#record = SeqIO.read(\"NC_005816.fna\", \"fasta\") #parse sequence\n",
        "table = 1  #set table for aa\n",
        "min_pro_len = 1000 #lower limit for protein length\n",
        "\n",
        "def find_orfs_with_trans(seq, trans_table,min_protein_lenght):\n",
        "  answer=[] #list of results\n",
        "  seq_len = len(seq)\n",
        "  for strand, nuc in ([+1, seq], (-1, seq.reverse_complement())):\n",
        "    for frame in range(3):\n",
        "      trans = nuc[frame:].translate(trans_table)\n",
        "      trans_len = len(trans)\n",
        "      aa_start = 0\n",
        "      aa_end = 0\n",
        "      while aa_start < trans_len:\n",
        "        aa_end = trans.find(\"*\",aa_start)\n",
        "        if aa_end == -1:\n",
        "          aa_end = trans_len\n",
        "        if aa_end - aa_start >= min_protein_lenght:\n",
        "          if aa_end == 1:\n",
        "            start = frame + aa_start * 3\n",
        "            end = min(seq_len, frame + aa_end * 3 +3)\n",
        "          else:\n",
        "            start = seq_len - frame - aa_end * 3 -3\n",
        "            end = seq_len - frame - aa_start * 3\n",
        "          answer.append ((start, end, strand, trans[aa_start:aa_end]))\n",
        "        aa_start = aa_end + 1 \n",
        "\n",
        "  answer.sort()  #sort the table for start base position\n",
        "  return answer\n",
        "\n",
        "# -- iterate over all elements in DNA_seq col\n",
        "record_list=[]\n",
        "for i in filtered_df['DNA_seq']:\n",
        "  if type(i) == str:\n",
        "    record = Seq(i)\n",
        "    record_list.append(record)\n",
        "    #print (record)\n",
        "    orf_list = find_orfs_with_trans(record, table, min_pro_len) # -- call ORFinder\n",
        "  else:\n",
        "    continue\n",
        "#len(record_list)\n",
        "#len(orf_list)\n",
        "for start, end, strand, pro in orf_list:  # -- show results \n",
        "  print (\"%s ...%s - lenght %i, strand %i, %i:%i\" % (pro[:20], pro[-3:], len(pro), strand, start, end))\n"
      ]
    },
    {
      "cell_type": "code",
      "execution_count": null,
      "metadata": {
        "id": "3e2DSdhwO0-M"
      },
      "outputs": [],
      "source": [
        "# -- iterate over all elements in DNA_seq col using complex ORFinder\n",
        "record_list=[]\n",
        "for i in filtered_df['DNA_seq']:\n",
        "  if type(i) == str:\n",
        "    record = Seq(i)\n",
        "    record_list.append(record)\n",
        "    #print (record)\n",
        "    orf_list = find_orfs_with_trans(record, table, min_pro_len) # -- call ORFinder\n",
        "  else:\n",
        "    continue\n",
        "#len(record_list)\n",
        "#len(orf_list)\n",
        "for start, end, strand, pro in orf_list:  # -- show results \n",
        "  print (\"%s ...%s - lenght %i, strand %i, %i:%i\" % (pro[:20], pro[-3:], len(pro), strand, start, end))"
      ]
    },
    {
      "cell_type": "markdown",
      "metadata": {
        "id": "cZOBRtL_GQqB"
      },
      "source": [
        "# Table supplementary ORF2/hits"
      ]
    },
    {
      "cell_type": "code",
      "execution_count": null,
      "metadata": {
        "colab": {
          "base_uri": "https://localhost:8080/",
          "height": 411
        },
        "id": "a2Vxwa7pGPFH",
        "outputId": "ebfb242a-2fd6-4c50-8daa-5aa428656b22"
      },
      "outputs": [
        {
          "data": {
            "text/html": [
              "\n",
              "  <div id=\"df-a352c507-02d1-499b-ae1e-cf5f6819d6f9\">\n",
              "    <div class=\"colab-df-container\">\n",
              "      <div>\n",
              "<style scoped>\n",
              "    .dataframe tbody tr th:only-of-type {\n",
              "        vertical-align: middle;\n",
              "    }\n",
              "\n",
              "    .dataframe tbody tr th {\n",
              "        vertical-align: top;\n",
              "    }\n",
              "\n",
              "    .dataframe thead th {\n",
              "        text-align: right;\n",
              "    }\n",
              "</style>\n",
              "<table border=\"1\" class=\"dataframe\">\n",
              "  <thead>\n",
              "    <tr style=\"text-align: right;\">\n",
              "      <th></th>\n",
              "      <th>species</th>\n",
              "      <th>ORF2_CN</th>\n",
              "    </tr>\n",
              "  </thead>\n",
              "  <tbody>\n",
              "    <tr>\n",
              "      <th>0</th>\n",
              "      <td>Monodelphis domestica</td>\n",
              "      <td>1607</td>\n",
              "    </tr>\n",
              "    <tr>\n",
              "      <th>44</th>\n",
              "      <td>Balaenoptera\\nacutorostrata scammoni</td>\n",
              "      <td>1338</td>\n",
              "    </tr>\n",
              "    <tr>\n",
              "      <th>84</th>\n",
              "      <td>Rhinopithecus roxellana</td>\n",
              "      <td>714</td>\n",
              "    </tr>\n",
              "    <tr>\n",
              "      <th>75</th>\n",
              "      <td>Mus musculus</td>\n",
              "      <td>629</td>\n",
              "    </tr>\n",
              "    <tr>\n",
              "      <th>350</th>\n",
              "      <td>Brassica napus</td>\n",
              "      <td>544</td>\n",
              "    </tr>\n",
              "    <tr>\n",
              "      <th>...</th>\n",
              "      <td>...</td>\n",
              "      <td>...</td>\n",
              "    </tr>\n",
              "    <tr>\n",
              "      <th>262</th>\n",
              "      <td>Schistosoma curassoni</td>\n",
              "      <td>0</td>\n",
              "    </tr>\n",
              "    <tr>\n",
              "      <th>263</th>\n",
              "      <td>Schistosoma haematobium</td>\n",
              "      <td>0</td>\n",
              "    </tr>\n",
              "    <tr>\n",
              "      <th>264</th>\n",
              "      <td>Schistosoma japonicum</td>\n",
              "      <td>0</td>\n",
              "    </tr>\n",
              "    <tr>\n",
              "      <th>265</th>\n",
              "      <td>Schistosoma mansoni</td>\n",
              "      <td>0</td>\n",
              "    </tr>\n",
              "    <tr>\n",
              "      <th>246</th>\n",
              "      <td>Orussus abietinus</td>\n",
              "      <td>0</td>\n",
              "    </tr>\n",
              "  </tbody>\n",
              "</table>\n",
              "<p>407 rows × 2 columns</p>\n",
              "</div>\n",
              "      <button class=\"colab-df-convert\" onclick=\"convertToInteractive('df-a352c507-02d1-499b-ae1e-cf5f6819d6f9')\"\n",
              "              title=\"Convert this dataframe to an interactive table.\"\n",
              "              style=\"display:none;\">\n",
              "        \n",
              "  <svg xmlns=\"http://www.w3.org/2000/svg\" height=\"24px\"viewBox=\"0 0 24 24\"\n",
              "       width=\"24px\">\n",
              "    <path d=\"M0 0h24v24H0V0z\" fill=\"none\"/>\n",
              "    <path d=\"M18.56 5.44l.94 2.06.94-2.06 2.06-.94-2.06-.94-.94-2.06-.94 2.06-2.06.94zm-11 1L8.5 8.5l.94-2.06 2.06-.94-2.06-.94L8.5 2.5l-.94 2.06-2.06.94zm10 10l.94 2.06.94-2.06 2.06-.94-2.06-.94-.94-2.06-.94 2.06-2.06.94z\"/><path d=\"M17.41 7.96l-1.37-1.37c-.4-.4-.92-.59-1.43-.59-.52 0-1.04.2-1.43.59L10.3 9.45l-7.72 7.72c-.78.78-.78 2.05 0 2.83L4 21.41c.39.39.9.59 1.41.59.51 0 1.02-.2 1.41-.59l7.78-7.78 2.81-2.81c.8-.78.8-2.07 0-2.86zM5.41 20L4 18.59l7.72-7.72 1.47 1.35L5.41 20z\"/>\n",
              "  </svg>\n",
              "      </button>\n",
              "      \n",
              "  <style>\n",
              "    .colab-df-container {\n",
              "      display:flex;\n",
              "      flex-wrap:wrap;\n",
              "      gap: 12px;\n",
              "    }\n",
              "\n",
              "    .colab-df-convert {\n",
              "      background-color: #E8F0FE;\n",
              "      border: none;\n",
              "      border-radius: 50%;\n",
              "      cursor: pointer;\n",
              "      display: none;\n",
              "      fill: #1967D2;\n",
              "      height: 32px;\n",
              "      padding: 0 0 0 0;\n",
              "      width: 32px;\n",
              "    }\n",
              "\n",
              "    .colab-df-convert:hover {\n",
              "      background-color: #E2EBFA;\n",
              "      box-shadow: 0px 1px 2px rgba(60, 64, 67, 0.3), 0px 1px 3px 1px rgba(60, 64, 67, 0.15);\n",
              "      fill: #174EA6;\n",
              "    }\n",
              "\n",
              "    [theme=dark] .colab-df-convert {\n",
              "      background-color: #3B4455;\n",
              "      fill: #D2E3FC;\n",
              "    }\n",
              "\n",
              "    [theme=dark] .colab-df-convert:hover {\n",
              "      background-color: #434B5C;\n",
              "      box-shadow: 0px 1px 3px 1px rgba(0, 0, 0, 0.15);\n",
              "      filter: drop-shadow(0px 1px 2px rgba(0, 0, 0, 0.3));\n",
              "      fill: #FFFFFF;\n",
              "    }\n",
              "  </style>\n",
              "\n",
              "      <script>\n",
              "        const buttonEl =\n",
              "          document.querySelector('#df-a352c507-02d1-499b-ae1e-cf5f6819d6f9 button.colab-df-convert');\n",
              "        buttonEl.style.display =\n",
              "          google.colab.kernel.accessAllowed ? 'block' : 'none';\n",
              "\n",
              "        async function convertToInteractive(key) {\n",
              "          const element = document.querySelector('#df-a352c507-02d1-499b-ae1e-cf5f6819d6f9');\n",
              "          const dataTable =\n",
              "            await google.colab.kernel.invokeFunction('convertToInteractive',\n",
              "                                                     [key], {});\n",
              "          if (!dataTable) return;\n",
              "\n",
              "          const docLinkHtml = 'Like what you see? Visit the ' +\n",
              "            '<a target=\"_blank\" href=https://colab.research.google.com/notebooks/data_table.ipynb>data table notebook</a>'\n",
              "            + ' to learn more about interactive tables.';\n",
              "          element.innerHTML = '';\n",
              "          dataTable['output_type'] = 'display_data';\n",
              "          await google.colab.output.renderOutput(dataTable, element);\n",
              "          const docLink = document.createElement('div');\n",
              "          docLink.innerHTML = docLinkHtml;\n",
              "          element.appendChild(docLink);\n",
              "        }\n",
              "      </script>\n",
              "    </div>\n",
              "  </div>\n",
              "  "
            ],
            "text/plain": [
              "                                  species  ORF2_CN\n",
              "0                   Monodelphis domestica     1607\n",
              "44   Balaenoptera\\nacutorostrata scammoni     1338\n",
              "84                Rhinopithecus roxellana      714\n",
              "75                           Mus musculus      629\n",
              "350                        Brassica napus      544\n",
              "..                                    ...      ...\n",
              "262                 Schistosoma curassoni        0\n",
              "263               Schistosoma haematobium        0\n",
              "264                 Schistosoma japonicum        0\n",
              "265                   Schistosoma mansoni        0\n",
              "246                     Orussus abietinus        0\n",
              "\n",
              "[407 rows x 2 columns]"
            ]
          },
          "execution_count": 1,
          "metadata": {},
          "output_type": "execute_result"
        }
      ],
      "source": [
        "import pandas as pd\n",
        "df_2 = pd.read_csv(\"/content/ORF2_suppl.csv\", delimiter=';')\n",
        "df_2.columns = ['species', 'ORF2_CN']\n",
        "#print(df)\n",
        "#df.head()\n",
        "df_2.sort_values(by=['ORF2_CN'], ascending=False)\n"
      ]
    },
    {
      "cell_type": "markdown",
      "metadata": {
        "id": "ledWQkJGGk2x"
      },
      "source": [
        "# Merge datasets"
      ]
    },
    {
      "cell_type": "code",
      "execution_count": null,
      "metadata": {
        "colab": {
          "base_uri": "https://localhost:8080/"
        },
        "id": "ZGjU4du3Gnuk",
        "outputId": "39f094f5-e5bd-4ca6-8d52-1193eb15425b"
      },
      "outputs": [
        {
          "data": {
            "text/plain": [
              "686"
            ]
          },
          "execution_count": 32,
          "metadata": {},
          "output_type": "execute_result"
        }
      ],
      "source": [
        "# -- merging datasets according to species name\n",
        "merged_df = pd.merge(df_2,sorted_df)\n",
        "#len(merged_df)\n",
        "#merged_df.head(10)\n",
        "\n",
        "# -- Dropping columns not matching criteria (length)\n",
        "valid_orf2 = merged_df.loc[(merged_df['length']>=3000) & (merged_df['length']<4000)]\n",
        "valid_orf2\n",
        "len(valid_orf2)\n",
        "\n",
        "#merged_unique = merged_df.drop_duplicates(subset=['nickname'], keep=False)\n",
        "#print(len(merged_unique))\n",
        "#merged_unique\n"
      ]
    }
  ],
  "metadata": {
    "colab": {
      "collapsed_sections": [
        "BNG40Ig6PX1L",
        "cZOBRtL_GQqB"
      ],
      "provenance": [],
      "include_colab_link": true
    },
    "kernelspec": {
      "display_name": "Python 3 (ipykernel)",
      "language": "python",
      "name": "python3"
    },
    "language_info": {
      "codemirror_mode": {
        "name": "ipython",
        "version": 3
      },
      "file_extension": ".py",
      "mimetype": "text/x-python",
      "name": "python",
      "nbconvert_exporter": "python",
      "pygments_lexer": "ipython3",
      "version": "3.9.5"
    }
  },
  "nbformat": 4,
  "nbformat_minor": 0
}