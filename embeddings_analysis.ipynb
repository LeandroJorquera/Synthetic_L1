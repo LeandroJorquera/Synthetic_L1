{
 "cells": [
  {
   "cell_type": "code",
   "execution_count": 55,
   "id": "f7b6fa92",
   "metadata": {
    "scrolled": true
   },
   "outputs": [],
   "source": [
    "# Import necessary libraries\n",
    "import pandas as pd\n",
    "import numpy as np\n",
    "import seaborn as sns\n",
    "import matplotlib.pyplot as plt\n",
    "import matplotlib.cm\n",
    "import sklearn"
   ]
  },
  {
   "cell_type": "markdown",
   "id": "97df84cc",
   "metadata": {},
   "source": [
    "**Explore data distribution and remove outliers**"
   ]
  },
  {
   "cell_type": "code",
   "execution_count": null,
   "id": "103eecda",
   "metadata": {},
   "outputs": [],
   "source": [
    "# -- Read matrix containing embeddings and labels\n",
    "path_X = '/Users/leandrojorqueravalero/Desktop/PhD/synthetic_ORF2/data/X.csv' \n",
    "X = pd.read_csv(path_X)"
   ]
  },
  {
   "cell_type": "code",
   "execution_count": null,
   "id": "f21bed6d",
   "metadata": {
    "scrolled": true
   },
   "outputs": [],
   "source": [
    "# Remove undesired column and filter mammalian entries\n",
    "X = X.drop(columns=['Unnamed: 0'])\n",
    "X_mammals = X[X['Taxonomy'] == 'Mammalia']"
   ]
  },
  {
   "cell_type": "markdown",
   "id": "76e0a74b",
   "metadata": {},
   "source": [
    "**Check how CN and prot_len distribution changes when removing non-mammals**"
   ]
  },
  {
   "cell_type": "code",
   "execution_count": null,
   "id": "700547d6",
   "metadata": {
    "scrolled": false
   },
   "outputs": [],
   "source": [
    "X['Non_redundant'].hist(bins = 20, figsize=(12,8))"
   ]
  },
  {
   "cell_type": "code",
   "execution_count": null,
   "id": "243bcfa6",
   "metadata": {
    "scrolled": false
   },
   "outputs": [],
   "source": [
    "X_mammals['Non_redundant'].hist(bins = 20, figsize=(12,8))"
   ]
  },
  {
   "cell_type": "code",
   "execution_count": null,
   "id": "cd0c0813",
   "metadata": {
    "scrolled": true
   },
   "outputs": [],
   "source": [
    "X['prot_len'].hist(bins = 20, figsize=(12,8))"
   ]
  },
  {
   "cell_type": "code",
   "execution_count": null,
   "id": "4af70ad5",
   "metadata": {
    "scrolled": true
   },
   "outputs": [],
   "source": [
    "X_mammals['prot_len'].hist(bins = 20, figsize=(12,8))"
   ]
  },
  {
   "cell_type": "markdown",
   "id": "8653530b",
   "metadata": {},
   "source": [
    "**Explore correlation between between each vector dimension and CN values**"
   ]
  },
  {
   "cell_type": "code",
   "execution_count": 56,
   "id": "1fb60de2",
   "metadata": {},
   "outputs": [],
   "source": [
    "corr_matrix = X_mammals.corr() # generate correlation matrix\n",
    "correlations = corr_matrix['Non_redundant'].sort_values(ascending=False) # check columns (dimensions) that correlates more to CN"
   ]
  },
  {
   "cell_type": "code",
   "execution_count": 67,
   "id": "4ec7edb1",
   "metadata": {},
   "outputs": [],
   "source": [
    "most_correlated = correlations.nlargest(30)"
   ]
  },
  {
   "cell_type": "code",
   "execution_count": 83,
   "id": "72ef5ac4",
   "metadata": {},
   "outputs": [
    {
     "data": {
      "text/html": [
       "<style  type=\"text/css\" >\n",
       "#T_4dc98_row0_col0,#T_4dc98_row1_col1,#T_4dc98_row2_col2,#T_4dc98_row3_col3,#T_4dc98_row4_col4,#T_4dc98_row5_col5,#T_4dc98_row6_col6,#T_4dc98_row7_col7,#T_4dc98_row8_col8{\n",
       "            background-color:  #b40426;\n",
       "            color:  #f1f1f1;\n",
       "        }#T_4dc98_row0_col1{\n",
       "            background-color:  #d95847;\n",
       "            color:  #000000;\n",
       "        }#T_4dc98_row0_col2{\n",
       "            background-color:  #f5c1a9;\n",
       "            color:  #000000;\n",
       "        }#T_4dc98_row0_col3,#T_4dc98_row1_col6,#T_4dc98_row2_col8,#T_4dc98_row4_col5,#T_4dc98_row4_col7,#T_4dc98_row6_col1,#T_4dc98_row7_col0,#T_4dc98_row7_col1,#T_4dc98_row7_col4,#T_4dc98_row8_col2{\n",
       "            background-color:  #3b4cc0;\n",
       "            color:  #f1f1f1;\n",
       "        }#T_4dc98_row0_col4,#T_4dc98_row4_col0{\n",
       "            background-color:  #d75445;\n",
       "            color:  #000000;\n",
       "        }#T_4dc98_row0_col5{\n",
       "            background-color:  #4e68d8;\n",
       "            color:  #000000;\n",
       "        }#T_4dc98_row0_col6{\n",
       "            background-color:  #6f92f3;\n",
       "            color:  #000000;\n",
       "        }#T_4dc98_row0_col7,#T_4dc98_row4_col3{\n",
       "            background-color:  #4055c8;\n",
       "            color:  #f1f1f1;\n",
       "        }#T_4dc98_row0_col8{\n",
       "            background-color:  #e4d9d2;\n",
       "            color:  #000000;\n",
       "        }#T_4dc98_row1_col0{\n",
       "            background-color:  #d65244;\n",
       "            color:  #000000;\n",
       "        }#T_4dc98_row1_col2{\n",
       "            background-color:  #a3c2fe;\n",
       "            color:  #000000;\n",
       "        }#T_4dc98_row1_col3{\n",
       "            background-color:  #5673e0;\n",
       "            color:  #000000;\n",
       "        }#T_4dc98_row1_col4{\n",
       "            background-color:  #dd5f4b;\n",
       "            color:  #000000;\n",
       "        }#T_4dc98_row1_col5{\n",
       "            background-color:  #6c8ff1;\n",
       "            color:  #000000;\n",
       "        }#T_4dc98_row1_col7{\n",
       "            background-color:  #5b7ae5;\n",
       "            color:  #000000;\n",
       "        }#T_4dc98_row1_col8{\n",
       "            background-color:  #f29072;\n",
       "            color:  #000000;\n",
       "        }#T_4dc98_row2_col0{\n",
       "            background-color:  #f7ba9f;\n",
       "            color:  #000000;\n",
       "        }#T_4dc98_row2_col1{\n",
       "            background-color:  #9bbcff;\n",
       "            color:  #000000;\n",
       "        }#T_4dc98_row2_col3,#T_4dc98_row6_col8{\n",
       "            background-color:  #5977e3;\n",
       "            color:  #000000;\n",
       "        }#T_4dc98_row2_col4{\n",
       "            background-color:  #edd2c3;\n",
       "            color:  #000000;\n",
       "        }#T_4dc98_row2_col5{\n",
       "            background-color:  #465ecf;\n",
       "            color:  #f1f1f1;\n",
       "        }#T_4dc98_row2_col6,#T_4dc98_row3_col6{\n",
       "            background-color:  #f6bda2;\n",
       "            color:  #000000;\n",
       "        }#T_4dc98_row2_col7{\n",
       "            background-color:  #92b4fe;\n",
       "            color:  #000000;\n",
       "        }#T_4dc98_row3_col0{\n",
       "            background-color:  #6687ed;\n",
       "            color:  #000000;\n",
       "        }#T_4dc98_row3_col1{\n",
       "            background-color:  #6788ee;\n",
       "            color:  #000000;\n",
       "        }#T_4dc98_row3_col2,#T_4dc98_row3_col4{\n",
       "            background-color:  #7396f5;\n",
       "            color:  #000000;\n",
       "        }#T_4dc98_row3_col5{\n",
       "            background-color:  #e67259;\n",
       "            color:  #000000;\n",
       "        }#T_4dc98_row3_col7{\n",
       "            background-color:  #d85646;\n",
       "            color:  #000000;\n",
       "        }#T_4dc98_row3_col8{\n",
       "            background-color:  #c6d6f1;\n",
       "            color:  #000000;\n",
       "        }#T_4dc98_row4_col1{\n",
       "            background-color:  #e16751;\n",
       "            color:  #000000;\n",
       "        }#T_4dc98_row4_col2{\n",
       "            background-color:  #e5d8d1;\n",
       "            color:  #000000;\n",
       "        }#T_4dc98_row4_col6{\n",
       "            background-color:  #4257c9;\n",
       "            color:  #f1f1f1;\n",
       "        }#T_4dc98_row4_col8{\n",
       "            background-color:  #f2cbb7;\n",
       "            color:  #000000;\n",
       "        }#T_4dc98_row5_col0{\n",
       "            background-color:  #9abbff;\n",
       "            color:  #000000;\n",
       "        }#T_4dc98_row5_col1{\n",
       "            background-color:  #9dbdff;\n",
       "            color:  #000000;\n",
       "        }#T_4dc98_row5_col2{\n",
       "            background-color:  #82a6fb;\n",
       "            color:  #000000;\n",
       "        }#T_4dc98_row5_col3{\n",
       "            background-color:  #e26952;\n",
       "            color:  #000000;\n",
       "        }#T_4dc98_row5_col4{\n",
       "            background-color:  #8db0fe;\n",
       "            color:  #000000;\n",
       "        }#T_4dc98_row5_col6{\n",
       "            background-color:  #e2dad5;\n",
       "            color:  #000000;\n",
       "        }#T_4dc98_row5_col7{\n",
       "            background-color:  #ee8468;\n",
       "            color:  #000000;\n",
       "        }#T_4dc98_row5_col8{\n",
       "            background-color:  #bfd3f6;\n",
       "            color:  #000000;\n",
       "        }#T_4dc98_row6_col0{\n",
       "            background-color:  #89acfd;\n",
       "            color:  #000000;\n",
       "        }#T_4dc98_row6_col2{\n",
       "            background-color:  #f7b99e;\n",
       "            color:  #000000;\n",
       "        }#T_4dc98_row6_col3{\n",
       "            background-color:  #f5c4ac;\n",
       "            color:  #000000;\n",
       "        }#T_4dc98_row6_col4{\n",
       "            background-color:  #6384eb;\n",
       "            color:  #000000;\n",
       "        }#T_4dc98_row6_col5{\n",
       "            background-color:  #c9d7f0;\n",
       "            color:  #000000;\n",
       "        }#T_4dc98_row6_col7{\n",
       "            background-color:  #f7a688;\n",
       "            color:  #000000;\n",
       "        }#T_4dc98_row7_col2{\n",
       "            background-color:  #7a9df8;\n",
       "            color:  #000000;\n",
       "        }#T_4dc98_row7_col3{\n",
       "            background-color:  #de614d;\n",
       "            color:  #000000;\n",
       "        }#T_4dc98_row7_col5{\n",
       "            background-color:  #f6a283;\n",
       "            color:  #000000;\n",
       "        }#T_4dc98_row7_col6{\n",
       "            background-color:  #f7b194;\n",
       "            color:  #000000;\n",
       "        }#T_4dc98_row7_col8{\n",
       "            background-color:  #a6c4fe;\n",
       "            color:  #000000;\n",
       "        }#T_4dc98_row8_col0{\n",
       "            background-color:  #ebd3c6;\n",
       "            color:  #000000;\n",
       "        }#T_4dc98_row8_col1{\n",
       "            background-color:  #f29274;\n",
       "            color:  #000000;\n",
       "        }#T_4dc98_row8_col3{\n",
       "            background-color:  #b5cdfa;\n",
       "            color:  #000000;\n",
       "        }#T_4dc98_row8_col4{\n",
       "            background-color:  #f5c2aa;\n",
       "            color:  #000000;\n",
       "        }#T_4dc98_row8_col5{\n",
       "            background-color:  #8fb1fe;\n",
       "            color:  #000000;\n",
       "        }#T_4dc98_row8_col6{\n",
       "            background-color:  #506bda;\n",
       "            color:  #000000;\n",
       "        }#T_4dc98_row8_col7{\n",
       "            background-color:  #b9d0f9;\n",
       "            color:  #000000;\n",
       "        }</style><table id=\"T_4dc98_\" ><thead>    <tr>        <th class=\"blank level0\" ></th>        <th class=\"col_heading level0 col0\" >0</th>        <th class=\"col_heading level0 col1\" >1</th>        <th class=\"col_heading level0 col2\" >2</th>        <th class=\"col_heading level0 col3\" >3</th>        <th class=\"col_heading level0 col4\" >4</th>        <th class=\"col_heading level0 col5\" >5</th>        <th class=\"col_heading level0 col6\" >6</th>        <th class=\"col_heading level0 col7\" >7</th>        <th class=\"col_heading level0 col8\" >8</th>    </tr></thead><tbody>\n",
       "                <tr>\n",
       "                        <th id=\"T_4dc98_level0_row0\" class=\"row_heading level0 row0\" >0</th>\n",
       "                        <td id=\"T_4dc98_row0_col0\" class=\"data row0 col0\" >1.000000</td>\n",
       "                        <td id=\"T_4dc98_row0_col1\" class=\"data row0 col1\" >0.811557</td>\n",
       "                        <td id=\"T_4dc98_row0_col2\" class=\"data row0 col2\" >0.359086</td>\n",
       "                        <td id=\"T_4dc98_row0_col3\" class=\"data row0 col3\" >-0.606246</td>\n",
       "                        <td id=\"T_4dc98_row0_col4\" class=\"data row0 col4\" >0.805365</td>\n",
       "                        <td id=\"T_4dc98_row0_col5\" class=\"data row0 col5\" >-0.334240</td>\n",
       "                        <td id=\"T_4dc98_row0_col6\" class=\"data row0 col6\" >-0.422725</td>\n",
       "                        <td id=\"T_4dc98_row0_col7\" class=\"data row0 col7\" >-0.868861</td>\n",
       "                        <td id=\"T_4dc98_row0_col8\" class=\"data row0 col8\" >0.175155</td>\n",
       "            </tr>\n",
       "            <tr>\n",
       "                        <th id=\"T_4dc98_level0_row1\" class=\"row_heading level0 row1\" >1</th>\n",
       "                        <td id=\"T_4dc98_row1_col0\" class=\"data row1 col0\" >0.811557</td>\n",
       "                        <td id=\"T_4dc98_row1_col1\" class=\"data row1 col1\" >1.000000</td>\n",
       "                        <td id=\"T_4dc98_row1_col2\" class=\"data row1 col2\" >-0.207301</td>\n",
       "                        <td id=\"T_4dc98_row1_col3\" class=\"data row1 col3\" >-0.459636</td>\n",
       "                        <td id=\"T_4dc98_row1_col4\" class=\"data row1 col4\" >0.765621</td>\n",
       "                        <td id=\"T_4dc98_row1_col5\" class=\"data row1 col5\" >-0.198438</td>\n",
       "                        <td id=\"T_4dc98_row1_col6\" class=\"data row1 col6\" >-0.704119</td>\n",
       "                        <td id=\"T_4dc98_row1_col7\" class=\"data row1 col7\" >-0.701645</td>\n",
       "                        <td id=\"T_4dc98_row1_col8\" class=\"data row1 col8\" >0.601115</td>\n",
       "            </tr>\n",
       "            <tr>\n",
       "                        <th id=\"T_4dc98_level0_row2\" class=\"row_heading level0 row2\" >2</th>\n",
       "                        <td id=\"T_4dc98_row2_col0\" class=\"data row2 col0\" >0.359086</td>\n",
       "                        <td id=\"T_4dc98_row2_col1\" class=\"data row2 col1\" >-0.207301</td>\n",
       "                        <td id=\"T_4dc98_row2_col2\" class=\"data row2 col2\" >1.000000</td>\n",
       "                        <td id=\"T_4dc98_row2_col3\" class=\"data row2 col3\" >-0.444365</td>\n",
       "                        <td id=\"T_4dc98_row2_col4\" class=\"data row2 col4\" >0.179567</td>\n",
       "                        <td id=\"T_4dc98_row2_col5\" class=\"data row2 col5\" >-0.366472</td>\n",
       "                        <td id=\"T_4dc98_row2_col6\" class=\"data row2 col6\" >0.405945</td>\n",
       "                        <td id=\"T_4dc98_row2_col7\" class=\"data row2 col7\" >-0.408797</td>\n",
       "                        <td id=\"T_4dc98_row2_col8\" class=\"data row2 col8\" >-0.757826</td>\n",
       "            </tr>\n",
       "            <tr>\n",
       "                        <th id=\"T_4dc98_level0_row3\" class=\"row_heading level0 row3\" >3</th>\n",
       "                        <td id=\"T_4dc98_row3_col0\" class=\"data row3 col0\" >-0.606246</td>\n",
       "                        <td id=\"T_4dc98_row3_col1\" class=\"data row3 col1\" >-0.459636</td>\n",
       "                        <td id=\"T_4dc98_row3_col2\" class=\"data row3 col2\" >-0.444365</td>\n",
       "                        <td id=\"T_4dc98_row3_col3\" class=\"data row3 col3\" >1.000000</td>\n",
       "                        <td id=\"T_4dc98_row3_col4\" class=\"data row3 col4\" >-0.572806</td>\n",
       "                        <td id=\"T_4dc98_row3_col5\" class=\"data row3 col5\" >0.768669</td>\n",
       "                        <td id=\"T_4dc98_row3_col6\" class=\"data row3 col6\" >0.401538</td>\n",
       "                        <td id=\"T_4dc98_row3_col7\" class=\"data row3 col7\" >0.796974</td>\n",
       "                        <td id=\"T_4dc98_row3_col8\" class=\"data row3 col8\" >-0.018429</td>\n",
       "            </tr>\n",
       "            <tr>\n",
       "                        <th id=\"T_4dc98_level0_row4\" class=\"row_heading level0 row4\" >4</th>\n",
       "                        <td id=\"T_4dc98_row4_col0\" class=\"data row4 col0\" >0.805365</td>\n",
       "                        <td id=\"T_4dc98_row4_col1\" class=\"data row4 col1\" >0.765621</td>\n",
       "                        <td id=\"T_4dc98_row4_col2\" class=\"data row4 col2\" >0.179567</td>\n",
       "                        <td id=\"T_4dc98_row4_col3\" class=\"data row4 col3\" >-0.572806</td>\n",
       "                        <td id=\"T_4dc98_row4_col4\" class=\"data row4 col4\" >1.000000</td>\n",
       "                        <td id=\"T_4dc98_row4_col5\" class=\"data row4 col5\" >-0.424966</td>\n",
       "                        <td id=\"T_4dc98_row4_col6\" class=\"data row4 col6\" >-0.657584</td>\n",
       "                        <td id=\"T_4dc98_row4_col7\" class=\"data row4 col7\" >-0.908491</td>\n",
       "                        <td id=\"T_4dc98_row4_col8\" class=\"data row4 col8\" >0.297859</td>\n",
       "            </tr>\n",
       "            <tr>\n",
       "                        <th id=\"T_4dc98_level0_row5\" class=\"row_heading level0 row5\" >5</th>\n",
       "                        <td id=\"T_4dc98_row5_col0\" class=\"data row5 col0\" >-0.334240</td>\n",
       "                        <td id=\"T_4dc98_row5_col1\" class=\"data row5 col1\" >-0.198438</td>\n",
       "                        <td id=\"T_4dc98_row5_col2\" class=\"data row5 col2\" >-0.366472</td>\n",
       "                        <td id=\"T_4dc98_row5_col3\" class=\"data row5 col3\" >0.768669</td>\n",
       "                        <td id=\"T_4dc98_row5_col4\" class=\"data row5 col4\" >-0.424966</td>\n",
       "                        <td id=\"T_4dc98_row5_col5\" class=\"data row5 col5\" >1.000000</td>\n",
       "                        <td id=\"T_4dc98_row5_col6\" class=\"data row5 col6\" >0.184201</td>\n",
       "                        <td id=\"T_4dc98_row5_col7\" class=\"data row5 col7\" >0.614237</td>\n",
       "                        <td id=\"T_4dc98_row5_col8\" class=\"data row5 col8\" >-0.060814</td>\n",
       "            </tr>\n",
       "            <tr>\n",
       "                        <th id=\"T_4dc98_level0_row6\" class=\"row_heading level0 row6\" >6</th>\n",
       "                        <td id=\"T_4dc98_row6_col0\" class=\"data row6 col0\" >-0.422725</td>\n",
       "                        <td id=\"T_4dc98_row6_col1\" class=\"data row6 col1\" >-0.704119</td>\n",
       "                        <td id=\"T_4dc98_row6_col2\" class=\"data row6 col2\" >0.405945</td>\n",
       "                        <td id=\"T_4dc98_row6_col3\" class=\"data row6 col3\" >0.401538</td>\n",
       "                        <td id=\"T_4dc98_row6_col4\" class=\"data row6 col4\" >-0.657584</td>\n",
       "                        <td id=\"T_4dc98_row6_col5\" class=\"data row6 col5\" >0.184201</td>\n",
       "                        <td id=\"T_4dc98_row6_col6\" class=\"data row6 col6\" >1.000000</td>\n",
       "                        <td id=\"T_4dc98_row6_col7\" class=\"data row6 col7\" >0.462398</td>\n",
       "                        <td id=\"T_4dc98_row6_col8\" class=\"data row6 col8\" >-0.579601</td>\n",
       "            </tr>\n",
       "            <tr>\n",
       "                        <th id=\"T_4dc98_level0_row7\" class=\"row_heading level0 row7\" >7</th>\n",
       "                        <td id=\"T_4dc98_row7_col0\" class=\"data row7 col0\" >-0.868861</td>\n",
       "                        <td id=\"T_4dc98_row7_col1\" class=\"data row7 col1\" >-0.701645</td>\n",
       "                        <td id=\"T_4dc98_row7_col2\" class=\"data row7 col2\" >-0.408797</td>\n",
       "                        <td id=\"T_4dc98_row7_col3\" class=\"data row7 col3\" >0.796974</td>\n",
       "                        <td id=\"T_4dc98_row7_col4\" class=\"data row7 col4\" >-0.908491</td>\n",
       "                        <td id=\"T_4dc98_row7_col5\" class=\"data row7 col5\" >0.614237</td>\n",
       "                        <td id=\"T_4dc98_row7_col6\" class=\"data row7 col6\" >0.462398</td>\n",
       "                        <td id=\"T_4dc98_row7_col7\" class=\"data row7 col7\" >1.000000</td>\n",
       "                        <td id=\"T_4dc98_row7_col8\" class=\"data row7 col8\" >-0.192758</td>\n",
       "            </tr>\n",
       "            <tr>\n",
       "                        <th id=\"T_4dc98_level0_row8\" class=\"row_heading level0 row8\" >8</th>\n",
       "                        <td id=\"T_4dc98_row8_col0\" class=\"data row8 col0\" >0.175155</td>\n",
       "                        <td id=\"T_4dc98_row8_col1\" class=\"data row8 col1\" >0.601115</td>\n",
       "                        <td id=\"T_4dc98_row8_col2\" class=\"data row8 col2\" >-0.757826</td>\n",
       "                        <td id=\"T_4dc98_row8_col3\" class=\"data row8 col3\" >-0.018429</td>\n",
       "                        <td id=\"T_4dc98_row8_col4\" class=\"data row8 col4\" >0.297859</td>\n",
       "                        <td id=\"T_4dc98_row8_col5\" class=\"data row8 col5\" >-0.060814</td>\n",
       "                        <td id=\"T_4dc98_row8_col6\" class=\"data row8 col6\" >-0.579601</td>\n",
       "                        <td id=\"T_4dc98_row8_col7\" class=\"data row8 col7\" >-0.192758</td>\n",
       "                        <td id=\"T_4dc98_row8_col8\" class=\"data row8 col8\" >1.000000</td>\n",
       "            </tr>\n",
       "    </tbody></table>"
      ],
      "text/plain": [
       "<pandas.io.formats.style.Styler at 0x7fdbe46c6f10>"
      ]
     },
     "execution_count": 83,
     "metadata": {},
     "output_type": "execute_result"
    }
   ],
   "source": [
    "# This map explores pairwise correlation among all dimensions (not only against CN)\n",
    "df = X_mammals.iloc[:10,:10]\n",
    "corr = df.corr()\n",
    "corr.style.background_gradient(cmap='coolwarm')"
   ]
  },
  {
   "cell_type": "code",
   "execution_count": 112,
   "id": "9dd7ff5f",
   "metadata": {},
   "outputs": [],
   "source": [
    "corre_test = X_mammals.iloc[:10]  # select only 10 first rows for test\n",
    "dimensions = corre_test.iloc[:,1:1025] # select vector dimensions\n",
    "CN = corre_test['Non_redundant'] # select cn column"
   ]
  },
  {
   "cell_type": "code",
   "execution_count": 84,
   "id": "92cabbe2",
   "metadata": {},
   "outputs": [],
   "source": [
    "from sklearn import feature_selection"
   ]
  },
  {
   "cell_type": "code",
   "execution_count": 115,
   "id": "fd219b24",
   "metadata": {},
   "outputs": [],
   "source": [
    "pearson = sklearn.feature_selection.r_regression(dimensions, CN, force_finite=True)"
   ]
  },
  {
   "cell_type": "code",
   "execution_count": 116,
   "id": "18f67961",
   "metadata": {},
   "outputs": [
    {
     "data": {
      "text/plain": [
       "1024"
      ]
     },
     "execution_count": 116,
     "metadata": {},
     "output_type": "execute_result"
    }
   ],
   "source": [
    "len(pearson)"
   ]
  },
  {
   "cell_type": "markdown",
   "id": "5395f3a8",
   "metadata": {},
   "source": [
    "**Applying PCA over all PC**"
   ]
  },
  {
   "cell_type": "code",
   "execution_count": null,
   "id": "739eb5f6",
   "metadata": {},
   "outputs": [],
   "source": [
    "scale = StandardScaler()\n",
    "pca = PCA() # Define PCA function\n",
    "\n",
    "my_pca = pca.fit_transform(matched_emb)   # Scale data and apply PCA on embeddings df\n",
    "dataframe_pca = pd.DataFrame(my_pca)"
   ]
  },
  {
   "cell_type": "markdown",
   "id": "894f076e",
   "metadata": {},
   "source": [
    "**Performing linear regression**"
   ]
  },
  {
   "cell_type": "code",
   "execution_count": null,
   "id": "a1fa08a8",
   "metadata": {},
   "outputs": [],
   "source": [
    "X_train, X_test, y_train, y_test = train_test_split(X,y,test_size=0.25)  # split dataset"
   ]
  }
 ],
 "metadata": {
  "kernelspec": {
   "display_name": "Python 3 (ipykernel)",
   "language": "python",
   "name": "python3"
  },
  "language_info": {
   "codemirror_mode": {
    "name": "ipython",
    "version": 3
   },
   "file_extension": ".py",
   "mimetype": "text/x-python",
   "name": "python",
   "nbconvert_exporter": "python",
   "pygments_lexer": "ipython3",
   "version": "3.9.5"
  }
 },
 "nbformat": 4,
 "nbformat_minor": 5
}
