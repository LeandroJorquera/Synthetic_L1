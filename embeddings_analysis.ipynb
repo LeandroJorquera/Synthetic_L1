{
 "cells": [
  {
   "cell_type": "code",
   "execution_count": 1,
   "id": "f7b6fa92",
   "metadata": {
    "scrolled": true
   },
   "outputs": [],
   "source": [
    "# Import necessary libraries\n",
    "import pandas as pd\n",
    "import numpy as np\n",
    "import seaborn as sns\n",
    "import matplotlib.pyplot as plt\n",
    "import matplotlib.cm\n",
    "import sklearn"
   ]
  },
  {
   "cell_type": "markdown",
   "id": "97df84cc",
   "metadata": {},
   "source": [
    "**Explore data distribution and remove outliers**"
   ]
  },
  {
   "cell_type": "code",
   "execution_count": 70,
   "id": "103eecda",
   "metadata": {},
   "outputs": [],
   "source": [
    "# -- Read matrix containing embeddings and labels\n",
    "path_df = '/Users/leandro/Desktop/ai_data/X.csv' \n",
    "df = pd.read_csv(path_X)"
   ]
  },
  {
   "cell_type": "code",
   "execution_count": 71,
   "id": "f21bed6d",
   "metadata": {
    "scrolled": true
   },
   "outputs": [],
   "source": [
    "# Remove undesired column and filter mammalian entries\n",
    "df = df.drop(columns=['Unnamed: 0'])\n",
    "df_mammals = df[df['Taxonomy'] == 'Mammalia']"
   ]
  },
  {
   "cell_type": "markdown",
   "id": "76e0a74b",
   "metadata": {},
   "source": [
    "**Check how CN and prot_len distribution changes when removing non-mammals**"
   ]
  },
  {
   "cell_type": "code",
   "execution_count": null,
   "id": "700547d6",
   "metadata": {},
   "outputs": [],
   "source": [
    "X['Non_redundant'].hist(bins = 20, figsize=(8,6))\n",
    "#plt.xlabel('Non Redundant')\n",
    "#plt.ylabel('copy number')\n",
    "plt.title('Complete dataset')"
   ]
  },
  {
   "cell_type": "code",
   "execution_count": null,
   "id": "243bcfa6",
   "metadata": {
    "scrolled": false
   },
   "outputs": [],
   "source": [
    "X_mammals['Non_redundant'].hist(bins = 20, figsize=(8,6))\n",
    "plt.title('Mammalian sequences')"
   ]
  },
  {
   "cell_type": "code",
   "execution_count": null,
   "id": "cd0c0813",
   "metadata": {
    "scrolled": false
   },
   "outputs": [],
   "source": [
    "X['prot_len'].hist(bins = 20, figsize=(8,6))\n",
    "plt.title('Complete dataset')"
   ]
  },
  {
   "cell_type": "code",
   "execution_count": null,
   "id": "4af70ad5",
   "metadata": {
    "scrolled": false
   },
   "outputs": [],
   "source": [
    "X_mammals['prot_len'].hist(bins = 20, figsize=(8,6))\n",
    "plt.title('Mammalian sequences')"
   ]
  },
  {
   "cell_type": "markdown",
   "id": "8653530b",
   "metadata": {},
   "source": [
    "**Explore correlation among all dimensions**"
   ]
  },
  {
   "cell_type": "code",
   "execution_count": null,
   "id": "1fb60de2",
   "metadata": {},
   "outputs": [],
   "source": [
    "# -- Compute correlation matrix among dimensiones (contains Pearson's r)\n",
    "corr_matrix = X_mammals.corr() # generate correlation matrix\n",
    "correlations = corr_matrix['Non_redundant'].sort_values(ascending=False) # check columns (dimensions) that correlates more to CN"
   ]
  },
  {
   "cell_type": "code",
   "execution_count": null,
   "id": "c63aa1e8",
   "metadata": {},
   "outputs": [],
   "source": [
    "# -- Different to plot correlation matrix\n",
    "corr.style.background_gradient(cmap='coolwarm')"
   ]
  },
  {
   "cell_type": "code",
   "execution_count": null,
   "id": "96044a2b",
   "metadata": {
    "scrolled": false
   },
   "outputs": [],
   "source": [
    "plt.matshow(corr)\n",
    "cb = plt.colorbar()\n",
    "plt.xlabel('dimension')\n",
    "plt.ylabel('dimension')\n",
    "plt.title('Correlation Matrix', fontsize=12)"
   ]
  },
  {
   "cell_type": "code",
   "execution_count": null,
   "id": "72ef5ac4",
   "metadata": {},
   "outputs": [],
   "source": [
    "# -- This explores pairwise correlation (what kind?) among ALL DIMENSIONS (not only against CN)\n",
    "split_df = X_mammals.iloc[:9,:10]   # generate a subset from the original dataset\n",
    "corr = df.corr()   # Compute correlaion (based on Pearson)"
   ]
  },
  {
   "cell_type": "code",
   "execution_count": null,
   "id": "bfbeaa58",
   "metadata": {
    "scrolled": false
   },
   "outputs": [],
   "source": [
    "# -- Exploring another correlation coefficient matrix with Numpy\n",
    "numbers = split_df.iloc[:,1:]  # select only numerical values \n",
    "cm = np.corrcoef(numbers.values.T)  # Compute correlation coefficient\n",
    "sns.set(font_scale=1) # letter size\n",
    "hm = sns.heatmap(cm, cmap='coolwarm', cbar=True, annot=True, square=True, fmt = '.2f', annot_kws={'size': 10},) # yticklabels=cols, xticklabels=cols"
   ]
  },
  {
   "cell_type": "markdown",
   "id": "175617dc",
   "metadata": {},
   "source": [
    "# Explore correlation between each vector dimension and CN values"
   ]
  },
  {
   "cell_type": "code",
   "execution_count": null,
   "id": "4ec7edb1",
   "metadata": {},
   "outputs": [],
   "source": [
    "X_mammals_numbers = X_mammals.iloc[:,1:-2]  # leave only embs dimensions and copy number values\n",
    "corr_matrix = X_mammals_numbers.corr() # compute correlation matrix\n",
    "correlations_cn = corr_matrix['Non_redundant'].sort_values(ascending=False) # check columns (dimensions) that correlates more to CN"
   ]
  },
  {
   "cell_type": "code",
   "execution_count": null,
   "id": "4fbdb8d5",
   "metadata": {
    "scrolled": false
   },
   "outputs": [],
   "source": [
    "correlations = correlations_cn.iloc[1:]  # remove first row that match CN againts itself (coefficient = 1)\n",
    "plt.scatter(y=correlations.values, x=correlations.index) # Plot correlation variation (sorted)\n",
    "plt.tick_params(axis='x', which='both', bottom=False, top=False, labelbottom=False)\n",
    "plt.ylabel('Pearsons correlation coefficient against CN')\n",
    "plt.xlabel('dimensions')\n",
    "plt.title('All dimensions')"
   ]
  },
  {
   "cell_type": "code",
   "execution_count": null,
   "id": "1e6b288c",
   "metadata": {
    "scrolled": false
   },
   "outputs": [],
   "source": [
    "# -- Convert pandas series to dataframe for easier manipulation\n",
    "a = pd.DataFrame(correlations)\n",
    "b = a.reset_index()\n",
    "#correlations_df.columns # display columns names\n",
    "correlations_df = b.rename(columns={'index':'dimension-1','Non_redundant':'Pearson'})"
   ]
  },
  {
   "cell_type": "code",
   "execution_count": null,
   "id": "fa776514",
   "metadata": {},
   "outputs": [],
   "source": [
    "# -- Filter only positive values to look for the elbow of the curve\n",
    "positive_corre = correlations_df[correlations_df.Pearson >= 0] # select only positive values\n",
    "highest_corre = correlations_df[correlations_df.Pearson >= 0.3] # select values >= 0.3"
   ]
  },
  {
   "cell_type": "code",
   "execution_count": null,
   "id": "f094a936",
   "metadata": {},
   "outputs": [],
   "source": [
    "plt.scatter(y=positive_corre['Pearson'].values, x=positive_corre['dimension-1'].values)\n",
    "plt.tick_params(axis='x', which='both', bottom=False, top=False, labelbottom=False)\n",
    "plt.ylabel('Pearsons correlation coefficient against CN')\n",
    "plt.xlabel('dimensions')\n",
    "plt.title('Positive correlation')"
   ]
  },
  {
   "cell_type": "code",
   "execution_count": null,
   "id": "df7b1ec9",
   "metadata": {
    "scrolled": false
   },
   "outputs": [],
   "source": [
    "plt.scatter(y=highest_corre['Pearson'].values, x=highest_corre['dimension-1'].values)\n",
    "plt.tick_params(axis='x', which='both', bottom=False, top=False, labelbottom=False)\n",
    "plt.ylabel('Pearsons correlation coefficient against CN')\n",
    "plt.xlabel('dimensions')\n",
    "plt.title('Dimensions with Pearsons >0.3')"
   ]
  },
  {
   "cell_type": "code",
   "execution_count": null,
   "id": "64d87e34",
   "metadata": {},
   "outputs": [],
   "source": [
    "# -- Leave only 10 most significant embeddings\n",
    "X_elbow = X_mammals.filter(items=['ID','988','145','265','933','113','823','266','777','56','562','Non_redundant'])\n",
    "X_elbow"
   ]
  },
  {
   "cell_type": "markdown",
   "id": "4443eacc",
   "metadata": {},
   "source": [
    "# Selecting important features using random forest"
   ]
  },
  {
   "cell_type": "code",
   "execution_count": 6,
   "id": "efcc6e18",
   "metadata": {},
   "outputs": [],
   "source": [
    "from sklearn.model_selection import train_test_split\n",
    "from sklearn import linear_model\n",
    "from sklearn.linear_model import LinearRegression\n",
    "from sklearn.linear_model import RANSACRegressor\n",
    "from sklearn.ensemble import RandomForestClassifier\n",
    "from sklearn.ensemble import RandomForestRegressor\n",
    "from sklearn.feature_selection import SelectFromModel\n",
    "from sklearn.metrics import mean_squared_error\n",
    "from sklearn.metrics import r2_score"
   ]
  },
  {
   "cell_type": "markdown",
   "id": "74673925",
   "metadata": {},
   "source": [
    "**Cookbook approach**"
   ]
  },
  {
   "cell_type": "code",
   "execution_count": null,
   "id": "7100279a",
   "metadata": {},
   "outputs": [],
   "source": [
    "features = X_mammals_numbers.iloc[:,0:-1]\n",
    "target = X_mammals_numbers.iloc[:,-1]"
   ]
  },
  {
   "cell_type": "code",
   "execution_count": null,
   "id": "4dfdb802",
   "metadata": {},
   "outputs": [],
   "source": [
    "# Create random forest classifier\n",
    "forest = RandomForestClassifier(random_state=0, n_jobs=-1)\n",
    "# Create object that selects features with importance greater than or equal to a thresold\n",
    "selector = SelectFromModel(forest, threshold=0.2)"
   ]
  },
  {
   "cell_type": "code",
   "execution_count": null,
   "id": "1371c4ed",
   "metadata": {
    "scrolled": true
   },
   "outputs": [],
   "source": [
    "# New feature matrix using selector\n",
    "features_important = selector.fit_transform(features, target)"
   ]
  },
  {
   "cell_type": "code",
   "execution_count": null,
   "id": "eec6afa6",
   "metadata": {},
   "outputs": [],
   "source": [
    "# Train random forest using most important features\n",
    "model = forest.fit(features_important,target)"
   ]
  },
  {
   "cell_type": "markdown",
   "id": "423536ce",
   "metadata": {},
   "source": [
    "**Book approach**"
   ]
  },
  {
   "cell_type": "code",
   "execution_count": 77,
   "id": "e0d3999b",
   "metadata": {},
   "outputs": [],
   "source": [
    "# -- Define X and y from whole dataset and split\n",
    "X = df.iloc[:,1:-3]\n",
    "y = df['Non_redundant'].values\n",
    "X_train, X_test, y_train, y_test = train_test_split(X,y,test_size=0.3, random_state = 0)  "
   ]
  },
  {
   "cell_type": "code",
   "execution_count": 79,
   "id": "9a52504e",
   "metadata": {},
   "outputs": [],
   "source": [
    "# Define feature labels (vector dimensions in this case)\n",
    "feat_labels = X.columns"
   ]
  },
  {
   "cell_type": "code",
   "execution_count": 18,
   "id": "de0091bd",
   "metadata": {},
   "outputs": [
    {
     "data": {
      "text/plain": [
       "RandomForestClassifier(random_state=1)"
      ]
     },
     "execution_count": 18,
     "metadata": {},
     "output_type": "execute_result"
    }
   ],
   "source": [
    "# Create random forest classifier\n",
    "forest = RandomForestClassifier(random_state=1)\n",
    "forest.fit(X_train, y_train)"
   ]
  },
  {
   "cell_type": "code",
   "execution_count": 80,
   "id": "25216d4d",
   "metadata": {},
   "outputs": [],
   "source": [
    "importances = forest.feature_importances_  #return importance for every dimension\n",
    "indices = np.argsort(importances[::-1])   # np.argsort returns the indices that would sort an array. "
   ]
  },
  {
   "cell_type": "code",
   "execution_count": 81,
   "id": "985fa367",
   "metadata": {
    "scrolled": false
   },
   "outputs": [
    {
     "data": {
      "text/plain": [
       "array([ 663,  945,  685, ...,  679,  524, 1015])"
      ]
     },
     "execution_count": 81,
     "metadata": {},
     "output_type": "execute_result"
    }
   ],
   "source": [
    "np.argsort(importances)"
   ]
  },
  {
   "cell_type": "code",
   "execution_count": 82,
   "id": "755a167e",
   "metadata": {},
   "outputs": [
    {
     "data": {
      "text/plain": [
       "array([360,  78, 338, ..., 344, 499,   8])"
      ]
     },
     "execution_count": 82,
     "metadata": {},
     "output_type": "execute_result"
    }
   ],
   "source": [
    "np.argsort(importances[::-1])"
   ]
  },
  {
   "cell_type": "code",
   "execution_count": 48,
   "id": "4e54cf3d",
   "metadata": {},
   "outputs": [
    {
     "data": {
      "text/plain": [
       "[4, 3, 2, 1, 0]"
      ]
     },
     "execution_count": 48,
     "metadata": {},
     "output_type": "execute_result"
    }
   ],
   "source": [
    "test_array = [0,1,2,3,4]\n",
    "test_array[::-1]"
   ]
  },
  {
   "cell_type": "code",
   "execution_count": 65,
   "id": "f0f16874",
   "metadata": {},
   "outputs": [
    {
     "data": {
      "text/plain": [
       "array([0, 1, 2, 3, 4])"
      ]
     },
     "execution_count": 65,
     "metadata": {},
     "output_type": "execute_result"
    }
   ],
   "source": [
    "np.argsort(test_array)"
   ]
  },
  {
   "cell_type": "code",
   "execution_count": 66,
   "id": "8a33d33d",
   "metadata": {},
   "outputs": [
    {
     "data": {
      "text/plain": [
       "array([4, 3, 2, 1, 0])"
      ]
     },
     "execution_count": 66,
     "metadata": {},
     "output_type": "execute_result"
    }
   ],
   "source": [
    "np.argsort(test_array[::-1])"
   ]
  },
  {
   "cell_type": "code",
   "execution_count": null,
   "id": "9e5d7a04",
   "metadata": {},
   "outputs": [],
   "source": [
    "# Show features importances \n",
    "for f in range(X_train.shape[1]):\n",
    "    print(\"%2d) %-*s %f\" % (f + 1, 30, \n",
    "                            feat_labels[indices[f]], \n",
    "                            importances[indices[f]]))"
   ]
  },
  {
   "cell_type": "code",
   "execution_count": null,
   "id": "50162b8a",
   "metadata": {
    "scrolled": false
   },
   "outputs": [],
   "source": [
    "# Plot features importances \n",
    "plt.title('Feature importance')\n",
    "plt.bar(range(X_train.shape[1]), importances[indices], align='center')\n",
    "plt.xticks(range(X_train.shape[1], feat_labels, rotation=90))\n",
    "plt.xlim([-1, X_train.shape[1]])\n",
    "plt.tight_layout"
   ]
  },
  {
   "cell_type": "markdown",
   "id": "a2734d0b",
   "metadata": {},
   "source": [
    "# Train different models using highest-scored dimensions"
   ]
  },
  {
   "cell_type": "code",
   "execution_count": null,
   "id": "18469102",
   "metadata": {},
   "outputs": [],
   "source": [
    "def plot_residuals(y_train_pred, y_train, y_test_pred, y_test):\n",
    "    \"\"\"Define function to plot residuals\"\"\"\n",
    "    plt.scatter(y_train_pred, y_train_pred - y_train, c='steelblue', marker='o', \n",
    "                edgecolor='white', label='Training data')\n",
    "    plt.scatter(y_test_pred, y_test_pred - y_test, c='limegreen', marker='s', \n",
    "                edgecolor='white', label='Test data')\n",
    "    plt.xlabel('Predicted values')\n",
    "    plt.ylabel('Residuals')\n",
    "    plt.legend(loc='upper left')\n",
    "    plt.hlines(y=0, xmin=0, xmax=max(y_train_pred), color='black', lw=2) \n",
    "    plt.xlim([0, max(y_train_pred)])"
   ]
  },
  {
   "cell_type": "markdown",
   "id": "c016abf9",
   "metadata": {},
   "source": [
    "**Simple linear regression**"
   ]
  },
  {
   "cell_type": "code",
   "execution_count": null,
   "id": "557d85b2",
   "metadata": {
    "scrolled": false
   },
   "outputs": [],
   "source": [
    "# -- Define X and y from X_elbow df, and split\n",
    "X = X_elbow.iloc[:,1:-1].values\n",
    "y = X_elbow['Non_redundant'].values\n",
    "X_train, X_test, y_train, y_test = train_test_split(X,y,test_size=0.3, random_state = 0)  "
   ]
  },
  {
   "cell_type": "code",
   "execution_count": null,
   "id": "dfd269d5",
   "metadata": {},
   "outputs": [],
   "source": [
    "slr = LinearRegression()  # Define simple linear regression (LR)"
   ]
  },
  {
   "cell_type": "code",
   "execution_count": null,
   "id": "7e289ceb",
   "metadata": {},
   "outputs": [],
   "source": [
    "slr.fit(X_train, y_train) # fit model to training data \n",
    "y_train_pred = slr.predict(X_train)  # Relate y to X in training data\n",
    "y_test_pred = slr.predict(X_test) # Predict y_test from X_test"
   ]
  },
  {
   "cell_type": "code",
   "execution_count": null,
   "id": "0eaa2921",
   "metadata": {
    "scrolled": true
   },
   "outputs": [],
   "source": [
    "# -- Evaluate model performance using MSE and R^2 (a standardized version of MSE with better interpretability)\n",
    "print('MSE -- train: %.3f, test: % .3f' %\n",
    "      (mean_squared_error(y_train, y_train_pred), mean_squared_error(y_test, y_test_pred)),\n",
    "      '\\nR^2 -- train: %.3f, test: %.3f' %\n",
    "      (r2_score(y_train, y_train_pred), r2_score(y_test, y_test_pred)))"
   ]
  },
  {
   "cell_type": "code",
   "execution_count": null,
   "id": "69668911",
   "metadata": {
    "scrolled": false
   },
   "outputs": [],
   "source": [
    "plot_residuals(y_train_pred, y_train, y_test_pred, y_test)"
   ]
  },
  {
   "cell_type": "markdown",
   "id": "f0810337",
   "metadata": {},
   "source": [
    "**LASSO regularization**"
   ]
  },
  {
   "cell_type": "code",
   "execution_count": null,
   "id": "396bc4a0",
   "metadata": {},
   "outputs": [],
   "source": [
    "# -- Define X and y from X_elbow df, and split\n",
    "X = X_elbow.iloc[:,1:-1].values\n",
    "y = X_elbow['Non_redundant'].values\n",
    "X_train, X_test, y_train, y_test = train_test_split(X,y,test_size=0.3, random_state = 0)  "
   ]
  },
  {
   "cell_type": "code",
   "execution_count": null,
   "id": "e0729272",
   "metadata": {},
   "outputs": [],
   "source": [
    "lasso = linear_model.Lasso(alpha=0.1)"
   ]
  },
  {
   "cell_type": "code",
   "execution_count": null,
   "id": "a50a1db1",
   "metadata": {
    "scrolled": true
   },
   "outputs": [],
   "source": [
    "lasso.fit(X, y)"
   ]
  },
  {
   "cell_type": "code",
   "execution_count": null,
   "id": "8ad147ed",
   "metadata": {},
   "outputs": [],
   "source": [
    "lasso.score(X,y)"
   ]
  },
  {
   "cell_type": "markdown",
   "id": "b8d1ed04",
   "metadata": {},
   "source": [
    "**Random Forest regression**"
   ]
  },
  {
   "cell_type": "code",
   "execution_count": null,
   "id": "5e092272",
   "metadata": {},
   "outputs": [],
   "source": [
    "forest = RandomForestRegressor(n_estimators=100, criterion='squared_error', random_state=1, n_jobs=-1, max_depth=15)"
   ]
  },
  {
   "cell_type": "code",
   "execution_count": null,
   "id": "f2b74edf",
   "metadata": {
    "scrolled": true
   },
   "outputs": [],
   "source": [
    "forest.fit(X_train, y_train)\n"
   ]
  },
  {
   "cell_type": "code",
   "execution_count": null,
   "id": "e3d8440b",
   "metadata": {},
   "outputs": [],
   "source": [
    "y_train_pred = forest.predict(X_train)"
   ]
  },
  {
   "cell_type": "code",
   "execution_count": null,
   "id": "4a361469",
   "metadata": {},
   "outputs": [],
   "source": [
    "y_test_pred = forest.predict(X_test)"
   ]
  },
  {
   "cell_type": "code",
   "execution_count": null,
   "id": "6b19e49a",
   "metadata": {
    "scrolled": true
   },
   "outputs": [],
   "source": [
    "# -- Evaluate model performance using MSE and R^2 (a standardized version of MSE with better interpretability)\n",
    "print('MSE -- train: %.3f, test: % .3f' %\n",
    "      (mean_squared_error(y_train, y_train_pred), mean_squared_error(y_test, y_test_pred)),\n",
    "      '\\nR^2 -- train: %.3f, test: %.3f' %\n",
    "      (r2_score(y_train, y_train_pred), r2_score(y_test, y_test_pred)))"
   ]
  },
  {
   "cell_type": "code",
   "execution_count": null,
   "id": "217f2e10",
   "metadata": {
    "scrolled": false
   },
   "outputs": [],
   "source": [
    "plot_residuals(y_train_pred, y_train, y_test_pred, y_test)"
   ]
  },
  {
   "cell_type": "markdown",
   "id": "16246d63",
   "metadata": {},
   "source": [
    "**Robust regression model using RANSAC**"
   ]
  },
  {
   "cell_type": "code",
   "execution_count": null,
   "id": "21fba953",
   "metadata": {},
   "outputs": [],
   "source": [
    "ransac = RANSACRegressor(LinearRegression(), max_trials=100, min_samples=50, \n",
    "                         loss='squared_error', residual_threshold=5.0, random_state=0)"
   ]
  },
  {
   "cell_type": "code",
   "execution_count": null,
   "id": "2f09cde6",
   "metadata": {
    "scrolled": true
   },
   "outputs": [],
   "source": [
    "y = y.reshape(-1,1)"
   ]
  },
  {
   "cell_type": "code",
   "execution_count": null,
   "id": "2739171c",
   "metadata": {},
   "outputs": [],
   "source": [
    "X.shape"
   ]
  },
  {
   "cell_type": "code",
   "execution_count": null,
   "id": "80806a72",
   "metadata": {
    "scrolled": true
   },
   "outputs": [],
   "source": [
    "ransac.fit(X,y)"
   ]
  },
  {
   "cell_type": "code",
   "execution_count": null,
   "id": "7b6117a4",
   "metadata": {},
   "outputs": [],
   "source": [
    "inlier_mask = ransac.inlier_mask_\n",
    "outlier_mask = np.logical_not(inlier_mask)\n",
    "line_X = np.arange(0,max(y),1)\n",
    "line_y_ransac = ransac.predict(line_X[:, np.newaxis])\n",
    "plt.scatter(X[inlier_mask], y[inlier_mask], c='steelblue', edgecolor='white', marker='o', label='Inliers')\n",
    "plt.scatter(X[outlier_mask_mask], y[outlier_mask], c='limegreen', edgecolor='white', marker='s', label='Outliers')\n",
    "plt.plot(line_X, line_y_ransac, color='black', lw=2)\n",
    "plt.xlabel('Copy number(M)')\n",
    "plt.ylabel('dimension')\n",
    "plt.legend(loc='upper left')"
   ]
  },
  {
   "cell_type": "code",
   "execution_count": null,
   "id": "3212e2b5",
   "metadata": {},
   "outputs": [],
   "source": [
    "X.shape"
   ]
  },
  {
   "cell_type": "markdown",
   "id": "ff77d1ac",
   "metadata": {},
   "source": [
    "# Training simple linear regression with whole vector to compare"
   ]
  },
  {
   "cell_type": "code",
   "execution_count": null,
   "id": "d55d75da",
   "metadata": {},
   "outputs": [],
   "source": [
    "# -- Define X and y from X_mammals df, and split\n",
    "X = X_mammals.iloc[:,1:-3]\n",
    "y = X_mammals['Non_redundant'].values\n",
    "X_train, X_test, y_train, y_test = train_test_split(X,y,test_size=0.3, random_state = 0)  "
   ]
  },
  {
   "cell_type": "code",
   "execution_count": null,
   "id": "ed4d8e9f",
   "metadata": {},
   "outputs": [],
   "source": [
    "slr.fit(X_train, y_train) # fit model to training data \n",
    "y_train_pred = slr.predict(X_train)  # Relate y to X in training data\n",
    "y_test_pred = slr.predict(X_test) # Predict y_test from X_test"
   ]
  },
  {
   "cell_type": "code",
   "execution_count": null,
   "id": "7ecea28b",
   "metadata": {
    "scrolled": true
   },
   "outputs": [],
   "source": [
    "# -- Evaluate model performance using MSE and R^2 (a standardized version of MSE with better interpretability)\n",
    "print('MSE -- train: %.3f, test: % .3f' %\n",
    "      (mean_squared_error(y_train, y_train_pred), mean_squared_error(y_test, y_test_pred)),\n",
    "      '\\nR^2 -- train: %.3f, test: %.3f' %\n",
    "      (r2_score(y_train, y_train_pred), r2_score(y_test, y_test_pred)))"
   ]
  },
  {
   "cell_type": "code",
   "execution_count": null,
   "id": "30f1554d",
   "metadata": {},
   "outputs": [],
   "source": [
    "plot_residuals(y_train_pred, y_train, y_test_pred, y_test)"
   ]
  }
 ],
 "metadata": {
  "kernelspec": {
   "display_name": "Python 3 (ipykernel)",
   "language": "python",
   "name": "python3"
  },
  "language_info": {
   "codemirror_mode": {
    "name": "ipython",
    "version": 3
   },
   "file_extension": ".py",
   "mimetype": "text/x-python",
   "name": "python",
   "nbconvert_exporter": "python",
   "pygments_lexer": "ipython3",
   "version": "3.9.5"
  }
 },
 "nbformat": 4,
 "nbformat_minor": 5
}
